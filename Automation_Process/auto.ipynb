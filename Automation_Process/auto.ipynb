{
 "cells": [
  {
   "cell_type": "markdown",
   "metadata": {},
   "source": [
    "- Make sure to download poppler from here: https://github.com/oschwartz10612/poppler-windows/releases/\n",
    "- Extract the downloaded folder\n",
    "- Place the folder in whichever directory you wish to\n",
    "- Navigate to the \"bin\" folder\n",
    "- Copy the path of the \"bin\" folder and add to PATH variables"
   ]
  },
  {
   "cell_type": "code",
   "execution_count": 1,
   "metadata": {},
   "outputs": [],
   "source": [
    "from pdf2image import convert_from_path\n",
    "import os"
   ]
  },
  {
   "cell_type": "code",
   "execution_count": 2,
   "metadata": {},
   "outputs": [],
   "source": [
    "def convert_pdf_to_jpg(input_dir, output_dir):\n",
    "    \"\"\"\n",
    "    Converts all .pdf files in the input directory to .jpg images and saves them in the output directory.\n",
    "\n",
    "    Arguments:\n",
    "        input_dir (str): Path to the input directory containing PDF files.\n",
    "        output_dir (str): Path to the output directory where converted JPG images will be saved.\n",
    "    \"\"\"\n",
    "    if not os.path.exists(output_dir):\n",
    "        os.makedirs(output_dir)  # Create the output directory if it doesn't exist\n",
    "\n",
    "    for filename in os.listdir(input_dir):\n",
    "        if filename.endswith('.pdf'):\n",
    "            pdf_path = os.path.join(input_dir, filename)  # Get the full path of the PDF file\n",
    "            output_path = os.path.join(output_dir, f'{os.path.splitext(filename)[0]}.jpg')  # Construct the output image path\n",
    "\n",
    "            try:\n",
    "                images = convert_from_path(pdf_path)\n",
    "                for i, img in enumerate(images):\n",
    "                    img_path = f'{output_path[:-4]}_{i}.jpg' if i > 0 else output_path  # Add index to output image path if multiple pages\n",
    "                    img.save(img_path, 'JPEG')\n",
    "\n",
    "            except Exception as e:\n",
    "                print(f'Error converting {pdf_path}: {e}')\n",
    "\n",
    "            else:\n",
    "                print(f'Successfully converted {pdf_path} to {output_path}')"
   ]
  },
  {
   "cell_type": "code",
   "execution_count": 3,
   "metadata": {},
   "outputs": [],
   "source": [
    "input_dir = r\"D:\\\\SKU\\\\Automation_Process\\\\Purchase_Orders_PDF\"\n",
    "output_dir = r\"D:\\\\SKU\\\\Automation_Process\\\\Purchase_Orders_JPG\""
   ]
  },
  {
   "cell_type": "code",
   "execution_count": 4,
   "metadata": {},
   "outputs": [
    {
     "name": "stdout",
     "output_type": "stream",
     "text": [
      "Successfully converted D:\\\\SKU\\\\Automation_Process\\\\Purchase_Orders_PDF\\purchase_orders_10248.pdf to D:\\\\SKU\\\\Automation_Process\\\\Purchase_Orders_JPG\\purchase_orders_10248.jpg\n",
      "Successfully converted D:\\\\SKU\\\\Automation_Process\\\\Purchase_Orders_PDF\\purchase_orders_10249.pdf to D:\\\\SKU\\\\Automation_Process\\\\Purchase_Orders_JPG\\purchase_orders_10249.jpg\n",
      "Successfully converted D:\\\\SKU\\\\Automation_Process\\\\Purchase_Orders_PDF\\purchase_orders_10250.pdf to D:\\\\SKU\\\\Automation_Process\\\\Purchase_Orders_JPG\\purchase_orders_10250.jpg\n",
      "Successfully converted D:\\\\SKU\\\\Automation_Process\\\\Purchase_Orders_PDF\\purchase_orders_10251.pdf to D:\\\\SKU\\\\Automation_Process\\\\Purchase_Orders_JPG\\purchase_orders_10251.jpg\n",
      "Successfully converted D:\\\\SKU\\\\Automation_Process\\\\Purchase_Orders_PDF\\purchase_orders_10252.pdf to D:\\\\SKU\\\\Automation_Process\\\\Purchase_Orders_JPG\\purchase_orders_10252.jpg\n",
      "Successfully converted D:\\\\SKU\\\\Automation_Process\\\\Purchase_Orders_PDF\\purchase_orders_10253.pdf to D:\\\\SKU\\\\Automation_Process\\\\Purchase_Orders_JPG\\purchase_orders_10253.jpg\n",
      "Successfully converted D:\\\\SKU\\\\Automation_Process\\\\Purchase_Orders_PDF\\purchase_orders_10254.pdf to D:\\\\SKU\\\\Automation_Process\\\\Purchase_Orders_JPG\\purchase_orders_10254.jpg\n",
      "Successfully converted D:\\\\SKU\\\\Automation_Process\\\\Purchase_Orders_PDF\\purchase_orders_10255.pdf to D:\\\\SKU\\\\Automation_Process\\\\Purchase_Orders_JPG\\purchase_orders_10255.jpg\n",
      "Successfully converted D:\\\\SKU\\\\Automation_Process\\\\Purchase_Orders_PDF\\purchase_orders_10256.pdf to D:\\\\SKU\\\\Automation_Process\\\\Purchase_Orders_JPG\\purchase_orders_10256.jpg\n",
      "Successfully converted D:\\\\SKU\\\\Automation_Process\\\\Purchase_Orders_PDF\\purchase_orders_10257.pdf to D:\\\\SKU\\\\Automation_Process\\\\Purchase_Orders_JPG\\purchase_orders_10257.jpg\n",
      "Successfully converted D:\\\\SKU\\\\Automation_Process\\\\Purchase_Orders_PDF\\purchase_orders_10258.pdf to D:\\\\SKU\\\\Automation_Process\\\\Purchase_Orders_JPG\\purchase_orders_10258.jpg\n",
      "Successfully converted D:\\\\SKU\\\\Automation_Process\\\\Purchase_Orders_PDF\\purchase_orders_10259.pdf to D:\\\\SKU\\\\Automation_Process\\\\Purchase_Orders_JPG\\purchase_orders_10259.jpg\n",
      "Successfully converted D:\\\\SKU\\\\Automation_Process\\\\Purchase_Orders_PDF\\purchase_orders_10260.pdf to D:\\\\SKU\\\\Automation_Process\\\\Purchase_Orders_JPG\\purchase_orders_10260.jpg\n",
      "Successfully converted D:\\\\SKU\\\\Automation_Process\\\\Purchase_Orders_PDF\\purchase_orders_10261.pdf to D:\\\\SKU\\\\Automation_Process\\\\Purchase_Orders_JPG\\purchase_orders_10261.jpg\n",
      "Successfully converted D:\\\\SKU\\\\Automation_Process\\\\Purchase_Orders_PDF\\purchase_orders_10262.pdf to D:\\\\SKU\\\\Automation_Process\\\\Purchase_Orders_JPG\\purchase_orders_10262.jpg\n",
      "Successfully converted D:\\\\SKU\\\\Automation_Process\\\\Purchase_Orders_PDF\\purchase_orders_10263.pdf to D:\\\\SKU\\\\Automation_Process\\\\Purchase_Orders_JPG\\purchase_orders_10263.jpg\n",
      "Successfully converted D:\\\\SKU\\\\Automation_Process\\\\Purchase_Orders_PDF\\purchase_orders_10264.pdf to D:\\\\SKU\\\\Automation_Process\\\\Purchase_Orders_JPG\\purchase_orders_10264.jpg\n",
      "Successfully converted D:\\\\SKU\\\\Automation_Process\\\\Purchase_Orders_PDF\\purchase_orders_10265.pdf to D:\\\\SKU\\\\Automation_Process\\\\Purchase_Orders_JPG\\purchase_orders_10265.jpg\n",
      "Successfully converted D:\\\\SKU\\\\Automation_Process\\\\Purchase_Orders_PDF\\purchase_orders_10266.pdf to D:\\\\SKU\\\\Automation_Process\\\\Purchase_Orders_JPG\\purchase_orders_10266.jpg\n",
      "Successfully converted D:\\\\SKU\\\\Automation_Process\\\\Purchase_Orders_PDF\\purchase_orders_10267.pdf to D:\\\\SKU\\\\Automation_Process\\\\Purchase_Orders_JPG\\purchase_orders_10267.jpg\n",
      "Successfully converted D:\\\\SKU\\\\Automation_Process\\\\Purchase_Orders_PDF\\purchase_orders_10268.pdf to D:\\\\SKU\\\\Automation_Process\\\\Purchase_Orders_JPG\\purchase_orders_10268.jpg\n",
      "Successfully converted D:\\\\SKU\\\\Automation_Process\\\\Purchase_Orders_PDF\\purchase_orders_10269.pdf to D:\\\\SKU\\\\Automation_Process\\\\Purchase_Orders_JPG\\purchase_orders_10269.jpg\n",
      "Successfully converted D:\\\\SKU\\\\Automation_Process\\\\Purchase_Orders_PDF\\purchase_orders_10270.pdf to D:\\\\SKU\\\\Automation_Process\\\\Purchase_Orders_JPG\\purchase_orders_10270.jpg\n",
      "Successfully converted D:\\\\SKU\\\\Automation_Process\\\\Purchase_Orders_PDF\\purchase_orders_10271.pdf to D:\\\\SKU\\\\Automation_Process\\\\Purchase_Orders_JPG\\purchase_orders_10271.jpg\n",
      "Successfully converted D:\\\\SKU\\\\Automation_Process\\\\Purchase_Orders_PDF\\purchase_orders_10272.pdf to D:\\\\SKU\\\\Automation_Process\\\\Purchase_Orders_JPG\\purchase_orders_10272.jpg\n",
      "Successfully converted D:\\\\SKU\\\\Automation_Process\\\\Purchase_Orders_PDF\\purchase_orders_10273.pdf to D:\\\\SKU\\\\Automation_Process\\\\Purchase_Orders_JPG\\purchase_orders_10273.jpg\n",
      "Successfully converted D:\\\\SKU\\\\Automation_Process\\\\Purchase_Orders_PDF\\purchase_orders_10274.pdf to D:\\\\SKU\\\\Automation_Process\\\\Purchase_Orders_JPG\\purchase_orders_10274.jpg\n",
      "Successfully converted D:\\\\SKU\\\\Automation_Process\\\\Purchase_Orders_PDF\\purchase_orders_10275.pdf to D:\\\\SKU\\\\Automation_Process\\\\Purchase_Orders_JPG\\purchase_orders_10275.jpg\n",
      "Successfully converted D:\\\\SKU\\\\Automation_Process\\\\Purchase_Orders_PDF\\purchase_orders_10276.pdf to D:\\\\SKU\\\\Automation_Process\\\\Purchase_Orders_JPG\\purchase_orders_10276.jpg\n",
      "Successfully converted D:\\\\SKU\\\\Automation_Process\\\\Purchase_Orders_PDF\\purchase_orders_10277.pdf to D:\\\\SKU\\\\Automation_Process\\\\Purchase_Orders_JPG\\purchase_orders_10277.jpg\n",
      "Successfully converted D:\\\\SKU\\\\Automation_Process\\\\Purchase_Orders_PDF\\purchase_orders_10278.pdf to D:\\\\SKU\\\\Automation_Process\\\\Purchase_Orders_JPG\\purchase_orders_10278.jpg\n",
      "Successfully converted D:\\\\SKU\\\\Automation_Process\\\\Purchase_Orders_PDF\\purchase_orders_10279.pdf to D:\\\\SKU\\\\Automation_Process\\\\Purchase_Orders_JPG\\purchase_orders_10279.jpg\n",
      "Successfully converted D:\\\\SKU\\\\Automation_Process\\\\Purchase_Orders_PDF\\purchase_orders_10280.pdf to D:\\\\SKU\\\\Automation_Process\\\\Purchase_Orders_JPG\\purchase_orders_10280.jpg\n",
      "Successfully converted D:\\\\SKU\\\\Automation_Process\\\\Purchase_Orders_PDF\\purchase_orders_10281.pdf to D:\\\\SKU\\\\Automation_Process\\\\Purchase_Orders_JPG\\purchase_orders_10281.jpg\n",
      "Successfully converted D:\\\\SKU\\\\Automation_Process\\\\Purchase_Orders_PDF\\purchase_orders_10282.pdf to D:\\\\SKU\\\\Automation_Process\\\\Purchase_Orders_JPG\\purchase_orders_10282.jpg\n",
      "Successfully converted D:\\\\SKU\\\\Automation_Process\\\\Purchase_Orders_PDF\\purchase_orders_10283.pdf to D:\\\\SKU\\\\Automation_Process\\\\Purchase_Orders_JPG\\purchase_orders_10283.jpg\n",
      "Successfully converted D:\\\\SKU\\\\Automation_Process\\\\Purchase_Orders_PDF\\purchase_orders_10284.pdf to D:\\\\SKU\\\\Automation_Process\\\\Purchase_Orders_JPG\\purchase_orders_10284.jpg\n",
      "Successfully converted D:\\\\SKU\\\\Automation_Process\\\\Purchase_Orders_PDF\\purchase_orders_10285.pdf to D:\\\\SKU\\\\Automation_Process\\\\Purchase_Orders_JPG\\purchase_orders_10285.jpg\n",
      "Successfully converted D:\\\\SKU\\\\Automation_Process\\\\Purchase_Orders_PDF\\purchase_orders_10286.pdf to D:\\\\SKU\\\\Automation_Process\\\\Purchase_Orders_JPG\\purchase_orders_10286.jpg\n",
      "Successfully converted D:\\\\SKU\\\\Automation_Process\\\\Purchase_Orders_PDF\\purchase_orders_10287.pdf to D:\\\\SKU\\\\Automation_Process\\\\Purchase_Orders_JPG\\purchase_orders_10287.jpg\n",
      "Successfully converted D:\\\\SKU\\\\Automation_Process\\\\Purchase_Orders_PDF\\purchase_orders_10288.pdf to D:\\\\SKU\\\\Automation_Process\\\\Purchase_Orders_JPG\\purchase_orders_10288.jpg\n",
      "Successfully converted D:\\\\SKU\\\\Automation_Process\\\\Purchase_Orders_PDF\\purchase_orders_10289.pdf to D:\\\\SKU\\\\Automation_Process\\\\Purchase_Orders_JPG\\purchase_orders_10289.jpg\n",
      "Successfully converted D:\\\\SKU\\\\Automation_Process\\\\Purchase_Orders_PDF\\purchase_orders_10290.pdf to D:\\\\SKU\\\\Automation_Process\\\\Purchase_Orders_JPG\\purchase_orders_10290.jpg\n",
      "Successfully converted D:\\\\SKU\\\\Automation_Process\\\\Purchase_Orders_PDF\\purchase_orders_10291.pdf to D:\\\\SKU\\\\Automation_Process\\\\Purchase_Orders_JPG\\purchase_orders_10291.jpg\n",
      "Successfully converted D:\\\\SKU\\\\Automation_Process\\\\Purchase_Orders_PDF\\purchase_orders_10292.pdf to D:\\\\SKU\\\\Automation_Process\\\\Purchase_Orders_JPG\\purchase_orders_10292.jpg\n",
      "Successfully converted D:\\\\SKU\\\\Automation_Process\\\\Purchase_Orders_PDF\\purchase_orders_10293.pdf to D:\\\\SKU\\\\Automation_Process\\\\Purchase_Orders_JPG\\purchase_orders_10293.jpg\n",
      "Successfully converted D:\\\\SKU\\\\Automation_Process\\\\Purchase_Orders_PDF\\purchase_orders_10294.pdf to D:\\\\SKU\\\\Automation_Process\\\\Purchase_Orders_JPG\\purchase_orders_10294.jpg\n",
      "Successfully converted D:\\\\SKU\\\\Automation_Process\\\\Purchase_Orders_PDF\\purchase_orders_10295.pdf to D:\\\\SKU\\\\Automation_Process\\\\Purchase_Orders_JPG\\purchase_orders_10295.jpg\n",
      "Successfully converted D:\\\\SKU\\\\Automation_Process\\\\Purchase_Orders_PDF\\purchase_orders_10296.pdf to D:\\\\SKU\\\\Automation_Process\\\\Purchase_Orders_JPG\\purchase_orders_10296.jpg\n",
      "Successfully converted D:\\\\SKU\\\\Automation_Process\\\\Purchase_Orders_PDF\\purchase_orders_10297.pdf to D:\\\\SKU\\\\Automation_Process\\\\Purchase_Orders_JPG\\purchase_orders_10297.jpg\n"
     ]
    }
   ],
   "source": [
    "convert_pdf_to_jpg(input_dir, output_dir)"
   ]
  },
  {
   "cell_type": "code",
   "execution_count": null,
   "metadata": {},
   "outputs": [],
   "source": []
  }
 ],
 "metadata": {
  "kernelspec": {
   "display_name": "layoutenv",
   "language": "python",
   "name": "python3"
  },
  "language_info": {
   "codemirror_mode": {
    "name": "ipython",
    "version": 3
   },
   "file_extension": ".py",
   "mimetype": "text/x-python",
   "name": "python",
   "nbconvert_exporter": "python",
   "pygments_lexer": "ipython3",
   "version": "3.11.2"
  }
 },
 "nbformat": 4,
 "nbformat_minor": 2
}
