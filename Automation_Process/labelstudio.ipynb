{
 "cells": [
  {
   "cell_type": "code",
   "execution_count": 1,
   "metadata": {},
   "outputs": [],
   "source": [
    "import requests\n",
    "import os\n",
    "import base64"
   ]
  },
  {
   "cell_type": "code",
   "execution_count": 2,
   "metadata": {},
   "outputs": [],
   "source": [
    "folder_path = r'D:\\\\SKU\\\\Automation_Process\\\\Purchase_Orders_JPG'\n",
    "project_id = '4'\n",
    "api_key = '1e0cfed5f935b1d517af3bc9048763a5d7163c2c'\n",
    "label_studio_url = 'http://localhost:8080'"
   ]
  },
  {
   "cell_type": "code",
   "execution_count": 3,
   "metadata": {},
   "outputs": [],
   "source": [
    "def upload_image_to_label_studio(image_path, project_id, api_key, label_studio_url):\n",
    "    # Read the image file\n",
    "    with open(image_path, \"rb\") as image_file:\n",
    "        encoded_string = base64.b64encode(image_file.read()).decode()\n",
    "\n",
    "    # Prepare the data for the API request\n",
    "    data = {\n",
    "        \"data\": {\n",
    "            \"image\": f\"data:image/jpeg;base64,{encoded_string}\"\n",
    "        }\n",
    "    }\n",
    "\n",
    "    # Set up the headers\n",
    "    headers = {\n",
    "        \"Authorization\": f\"Token {api_key}\",\n",
    "        \"Content-Type\": \"application/json\"\n",
    "    }\n",
    "\n",
    "    # Make the API request\n",
    "    url = f\"{label_studio_url}/api/projects/{project_id}/import\"\n",
    "    response = requests.post(url, json=data, headers=headers)\n",
    "\n",
    "    # Check if the request was successful\n",
    "    if response.status_code == 201:\n",
    "        print(f\"Successfully uploaded {os.path.basename(image_path)}\")\n",
    "    else:\n",
    "        print(f\"Failed to upload {os.path.basename(image_path)}. Status code: {response.status_code}\")\n",
    "        print(f\"Response: {response.text}\")"
   ]
  },
  {
   "cell_type": "code",
   "execution_count": 4,
   "metadata": {},
   "outputs": [],
   "source": [
    "def upload_images_from_folder(folder_path, project_id, api_key, label_studio_url):\n",
    "    for filename in os.listdir(folder_path):\n",
    "        if filename.lower().endswith(('.jpg', '.jpeg')):\n",
    "            image_path = os.path.join(folder_path, filename)\n",
    "            upload_image_to_label_studio(image_path, project_id, api_key, label_studio_url)"
   ]
  },
  {
   "cell_type": "code",
   "execution_count": 5,
   "metadata": {},
   "outputs": [
    {
     "name": "stdout",
     "output_type": "stream",
     "text": [
      "Successfully uploaded purchase_orders_10248.jpg\n",
      "Successfully uploaded purchase_orders_10249.jpg\n",
      "Successfully uploaded purchase_orders_10250.jpg\n",
      "Successfully uploaded purchase_orders_10251.jpg\n",
      "Successfully uploaded purchase_orders_10252.jpg\n",
      "Successfully uploaded purchase_orders_10253.jpg\n",
      "Successfully uploaded purchase_orders_10254.jpg\n",
      "Successfully uploaded purchase_orders_10255.jpg\n",
      "Successfully uploaded purchase_orders_10256.jpg\n",
      "Successfully uploaded purchase_orders_10257.jpg\n",
      "Successfully uploaded purchase_orders_10258.jpg\n",
      "Successfully uploaded purchase_orders_10259.jpg\n",
      "Successfully uploaded purchase_orders_10260.jpg\n",
      "Successfully uploaded purchase_orders_10261.jpg\n",
      "Successfully uploaded purchase_orders_10262.jpg\n",
      "Successfully uploaded purchase_orders_10263.jpg\n",
      "Successfully uploaded purchase_orders_10264.jpg\n",
      "Successfully uploaded purchase_orders_10265.jpg\n",
      "Successfully uploaded purchase_orders_10266.jpg\n",
      "Successfully uploaded purchase_orders_10267.jpg\n",
      "Successfully uploaded purchase_orders_10268.jpg\n",
      "Successfully uploaded purchase_orders_10269.jpg\n",
      "Successfully uploaded purchase_orders_10270.jpg\n",
      "Successfully uploaded purchase_orders_10271.jpg\n",
      "Successfully uploaded purchase_orders_10272.jpg\n",
      "Successfully uploaded purchase_orders_10273.jpg\n",
      "Successfully uploaded purchase_orders_10274.jpg\n",
      "Successfully uploaded purchase_orders_10275.jpg\n",
      "Successfully uploaded purchase_orders_10276.jpg\n",
      "Successfully uploaded purchase_orders_10277.jpg\n",
      "Successfully uploaded purchase_orders_10278.jpg\n",
      "Successfully uploaded purchase_orders_10279.jpg\n",
      "Successfully uploaded purchase_orders_10280.jpg\n",
      "Successfully uploaded purchase_orders_10281.jpg\n",
      "Successfully uploaded purchase_orders_10282.jpg\n",
      "Successfully uploaded purchase_orders_10283.jpg\n",
      "Successfully uploaded purchase_orders_10284.jpg\n",
      "Successfully uploaded purchase_orders_10285.jpg\n",
      "Successfully uploaded purchase_orders_10286.jpg\n",
      "Successfully uploaded purchase_orders_10287.jpg\n",
      "Successfully uploaded purchase_orders_10288.jpg\n",
      "Successfully uploaded purchase_orders_10289.jpg\n",
      "Successfully uploaded purchase_orders_10290.jpg\n",
      "Successfully uploaded purchase_orders_10291.jpg\n",
      "Successfully uploaded purchase_orders_10292.jpg\n",
      "Successfully uploaded purchase_orders_10293.jpg\n",
      "Successfully uploaded purchase_orders_10294.jpg\n",
      "Successfully uploaded purchase_orders_10295.jpg\n",
      "Successfully uploaded purchase_orders_10296.jpg\n",
      "Successfully uploaded purchase_orders_10297.jpg\n"
     ]
    }
   ],
   "source": [
    "upload_images_from_folder(folder_path, project_id, api_key, label_studio_url)"
   ]
  },
  {
   "cell_type": "code",
   "execution_count": null,
   "metadata": {},
   "outputs": [],
   "source": []
  }
 ],
 "metadata": {
  "kernelspec": {
   "display_name": "layoutenv",
   "language": "python",
   "name": "python3"
  },
  "language_info": {
   "codemirror_mode": {
    "name": "ipython",
    "version": 3
   },
   "file_extension": ".py",
   "mimetype": "text/x-python",
   "name": "python",
   "nbconvert_exporter": "python",
   "pygments_lexer": "ipython3",
   "version": "3.11.2"
  }
 },
 "nbformat": 4,
 "nbformat_minor": 2
}
